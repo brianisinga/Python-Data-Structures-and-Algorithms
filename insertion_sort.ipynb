{
  "nbformat": 4,
  "nbformat_minor": 0,
  "metadata": {
    "colab": {
      "provenance": [],
      "authorship_tag": "ABX9TyPv7jr2UQNpl4NezQCjabw5",
      "include_colab_link": true
    },
    "kernelspec": {
      "name": "python3",
      "display_name": "Python 3"
    },
    "language_info": {
      "name": "python"
    }
  },
  "cells": [
    {
      "cell_type": "markdown",
      "metadata": {
        "id": "view-in-github",
        "colab_type": "text"
      },
      "source": [
        "<a href=\"https://colab.research.google.com/github/brianisinga/Python-Data-Structures-and-Algorithms/blob/main/insertion_sort.ipynb\" target=\"_parent\"><img src=\"https://colab.research.google.com/assets/colab-badge.svg\" alt=\"Open In Colab\"/></a>"
      ]
    },
    {
      "cell_type": "code",
      "execution_count": 1,
      "metadata": {
        "colab": {
          "base_uri": "https://localhost:8080/"
        },
        "id": "8fgPDb07iHS6",
        "outputId": "ff044e98-51f6-4631-ff17-668cce60a7ca"
      },
      "outputs": [
        {
          "output_type": "stream",
          "name": "stdout",
          "text": [
            "Original array:\n",
            "[38, 27, 43, 3, 9, 82, 10]\n",
            "Sorted array:\n",
            "[3, 9, 10, 27, 38, 43, 82]\n"
          ]
        }
      ],
      "source": [
        "def insertion_sort(array):\n",
        "    for i in range(1, len(array)):\n",
        "        key = array[i]\n",
        "        j = i - 1\n",
        "\n",
        "        # Move elements of array[0..i-1], that are greater than key,\n",
        "        # to one position ahead of their current position\n",
        "        while j >= 0 and array[j] > key:\n",
        "            array[j + 1] = array[j]\n",
        "            j -= 1\n",
        "        array[j + 1] = key\n",
        "\n",
        "if __name__ == \"__main__\":\n",
        "    array = [38, 27, 43, 3, 9, 82, 10]\n",
        "    print(\"Original array:\")\n",
        "    print(array)\n",
        "\n",
        "    insertion_sort(array)\n",
        "\n",
        "    print(\"Sorted array:\")\n",
        "    print(array)\n"
      ]
    }
  ]
}